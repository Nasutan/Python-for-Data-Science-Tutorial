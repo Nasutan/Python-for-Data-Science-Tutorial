{
 "cells": [
  {
   "cell_type": "markdown",
   "metadata": {},
   "source": [
    "# TUTORIAL PYTHON FOR DATA SCIENCE 1 \n",
    "**Topic: Chapter 1 & Chapter 2**\n",
    "<br>\n",
    "**Use only Python Basics unless stated to import any modelus/packages/library**"
   ]
  },
  {
   "cell_type": "markdown",
   "metadata": {},
   "source": [
    "### QUESTION 1\n",
    "\n",
    "#### Question 1(a)\n",
    "\n",
    "Write a program to display the first and last colors from the following list.\n",
    "\n",
    "    color_list = [\"Red\", \"Green\", \"White\" , \"Black\"]"
   ]
  },
  {
   "cell_type": "code",
   "execution_count": 1,
   "metadata": {},
   "outputs": [
    {
     "name": "stdout",
     "output_type": "stream",
     "text": [
      "First color: Red\n",
      "Last color: Black\n"
     ]
    }
   ],
   "source": [
    "# WRITE YOUR CODE HERE\n",
    "\n",
    "color_list = [\"Red\", \"Green\", \"White\", \"Black\"]\n",
    "\n",
    "if len(color_list) >= 2:\n",
    "    first_color = color_list[0]\n",
    "    last_color = color_list[-1]\n",
    "    print(\"First color:\", first_color)\n",
    "    print(\"Last color:\", last_color)\n",
    "elif len(color_list) == 1:\n",
    "    color = color_list[0]\n",
    "    print(\"Only one color in the list:\", color)\n",
    "else:\n",
    "    print(\"The list is empty.\")"
   ]
  },
  {
   "cell_type": "markdown",
   "metadata": {},
   "source": [
    "*Breakdown of the code:*\n",
    "\n",
    "1. The `color_list` is set up with four colour strings: \"Red,\" \"Green,\" \"White,\" and \"Black.\"\n",
    "\n",
    "2. The 'len()' method is used to check how long the 'color_list' is.\n",
    "\n",
    "3. If the length of `color_list` is greater than or equal to 2, at least two colours are in the list. In this case, the first colour is given to the variable `first_color` using the index `[0]`, and the last colour is given to the variable `last_color` using the index `[-1]`, which stands for the last item on the list. `print()` lines are then used to show the first colour and the last colour.\n",
    "\n",
    "4. If the length of `color_list` is exactly 1, there is only one colour in the list. In this case, the number `[0]` is used to give the colour to the variable `colour`. The code then shows a message saying that the list has only one colour.\n",
    "\n",
    "5. If `color_list` has a length of 0, it means the list is empty. In this case, the code just shows a message that says \"List is empty.\"\n",
    "\n"
   ]
  },
  {
   "cell_type": "markdown",
   "metadata": {},
   "source": [
    "#### Question 1(b)\n",
    "Write a function that receive a number, then:\n",
    "- if the given number is less than 17, return the difference between the given number and 17 \n",
    "- if the number is greater than 17 return double of the absolute difference"
   ]
  },
  {
   "cell_type": "code",
   "execution_count": 2,
   "metadata": {},
   "outputs": [
    {
     "name": "stdout",
     "output_type": "stream",
     "text": [
      "7\n",
      "6\n"
     ]
    }
   ],
   "source": [
    "# WRITE YOUR CODE HERE\n",
    "\n",
    "def difference(number):\n",
    "    if number < 17:\n",
    "        return 17 - number\n",
    "    else:\n",
    "        return 2 * abs(number - 17)\n",
    "\n",
    "print(difference(10))  \n",
    "print(difference(20))  \n"
   ]
  },
  {
   "cell_type": "markdown",
   "metadata": {},
   "source": [
    "*Breakdown of the code:*\n",
    "\n",
    "1. The function `difference` is defined using the argument `number.`\n",
    "\n",
    "2. Inside the function, a `if` line checks to see if `number` is less than 17.\n",
    "\n",
    "3. If `number` is less than 17, the code gives back what `number` minus `17` gives. This will show the difference between 17 and `number` in a good way.\n",
    "\n",
    "4. The `else` block is run if `number` is greater than or equal to 17. The code figures out the absolute difference between `number` and `17` by taking the absolute value of the result of removing 17 from `number`. Then it takes this exact difference and times it by 2.\n",
    "\n",
    "5. The `print()` function is used to show the results of calling the `difference` function with different input numbers. In this case, it shows the difference between 10 and 17 and the difference between 20 and 17.\n",
    "\n",
    "*Therefore, when you run the code, it will output:\n",
    "7\n",
    "6*\n",
    "\n",
    "*This means that the difference between 10 and 17 is 7, and the difference between 20 and 17 is 6.*"
   ]
  },
  {
   "cell_type": "markdown",
   "metadata": {},
   "source": [
    "#### Question 1(c)\n",
    "\n",
    "Write a program to print all even numbers from a given numbers list in the same order shown below and stop the printing for any numbers that come after 237 in the sequence.\n",
    "\n",
    "numbers = [ 386, 462, 47, 418, 907, 344, 236, 375, 823, 566, 597, 978, 328, 615, 953, 345, \n",
    "    399, 162, 758, 219, 918, 237, 412, 566, 826, 248, 866, 950, 626, 949, 687, 217, \n",
    "    815, 67, 104, 58, 512, 24, 892, 894, 767, 553, 81, 379, 843, 831, 445, 742, 717, \n",
    "    958,743, 527\n",
    "    ]"
   ]
  },
  {
   "cell_type": "code",
   "execution_count": 3,
   "metadata": {},
   "outputs": [
    {
     "name": "stdout",
     "output_type": "stream",
     "text": [
      "[386, 462, 418, 344, 236, 566, 978, 328, 162, 758, 918]\n"
     ]
    }
   ],
   "source": [
    "# WRITE YOUR CODE HERE\n",
    "\n",
    "def evennumber(listnumber):\n",
    "    numbersfinal = []\n",
    "    for number in listnumber:\n",
    "        if number == 237:\n",
    "            break\n",
    "        elif number % 2 == 0:\n",
    "            numbersfinal.append(number)\n",
    "    print(numbersfinal)\n",
    "\n",
    "numbers = [ 386, 462, 47, 418, 907, 344, 236, 375, 823, 566, 597, 978, 328, 615, 953, 345, 399, 162, 758, 219, 918, 237, 412, 566, 826, 248, 866, 950, 626, 949, 687, 217, 815, 67, 104, 58, 512, 24, 892, 894, 767, 553, 81, 379, 843, 831, 445, 742, 717, 958,743, 527 ]\n",
    "evennumber(numbers)"
   ]
  },
  {
   "cell_type": "markdown",
   "metadata": {},
   "source": [
    "*Breakdown of the code:*\n",
    "\n",
    "1. The function `evennumber` is defined with the argument `listnumber`.\n",
    "\n",
    "2. Inside the function, an empty list called `numbersfinal` is created to store the even numbers.\n",
    "\n",
    "3. The code enters a `for` loop that iterates over each `number` in the `listnumber`.\n",
    "\n",
    "4. Inside the loop, an `if` statement checks if the current `number` is equal to 237. If it is, the loop is exited using the `break` statement. This means that if the number 237 is encountered, the loop will stop and no more numbers will be processed.\n",
    "\n",
    "5. If the current `number` is not equal to 237, the code checks if the number is even by using the modulo operator `%` to check if the remainder of dividing the number by 2 is 0. If it is, it means the number is even, and it is appended to the `numbersfinal` list using the `append()` method.\n",
    "\n",
    "6. After the loop finishes, the `print()` function is used to output the `numbersfinal` list, which contains all the even numbers encountered before the number 237 (if it was present in the original list).\n",
    "\n",
    "7. The code then creates a list called `numbers` containing a series of integers.\n",
    "\n",
    "8. The `evennumber()` function is called with the `numbers` list as the argument.\n",
    "\n",
    "*Therefore, when you run the code, it will output:\n",
    "[386, 462, 418, 344, 236, 566, 978, 328, 162, 758, 918]*\n",
    "\n",
    "*This means that these are the even numbers in the `numbers` list before the number 237 was encountered.*"
   ]
  },
  {
   "cell_type": "markdown",
   "metadata": {},
   "source": [
    "#### Question 1(d)\n",
    "Write a function to get a single string from two given strings, separated by a space and swap the first two characters of each string.\n",
    "\n",
    "Example:\n",
    "- Sample String : \n",
    "\n",
    "        'abc', 'xyz'\n",
    "\n",
    "- Expected Result : \n",
    "\n",
    "        'xyc abz'"
   ]
  },
  {
   "cell_type": "code",
   "execution_count": 4,
   "metadata": {},
   "outputs": [
    {
     "name": "stdout",
     "output_type": "stream",
     "text": [
      "xyc abz\n"
     ]
    }
   ],
   "source": [
    "# WRITE YOUR CODE HERE\n",
    "\n",
    "def swap(str1, str2):\n",
    "    str1_swapped = str2[:2] + str1[2:]\n",
    "    str2_swapped = str1[:2] + str2[2:]\n",
    "    return str1_swapped + ' ' + str2_swapped\n",
    "\n",
    "result = swap('abc', 'xyz')\n",
    "print(result)\n"
   ]
  },
  {
   "cell_type": "markdown",
   "metadata": {},
   "source": [
    "*Breakdown of the code:*\n",
    "\n",
    "1. The function `swap` is defined with the arguments `str1` and `str2`.\n",
    "\n",
    "2. Inside the function, two new variables, `str1_swapped` and `str2_swapped`, are created to store the swapped strings.\n",
    "\n",
    "3. The `str1_swapped` variable is assigned the concatenation of the first two characters of `str2` (obtained using slicing with `[:2]`) and the remaining characters of `str1` (obtained using slicing with `[2:]`).\n",
    "\n",
    "4. Similarly, the `str2_swapped` variable is assigned the concatenation of the first two characters of `str1` and the remaining characters of `str2`.\n",
    "\n",
    "5. The function then returns the concatenation of `str1_swapped`, a space character, and `str2_swapped`.\n",
    "\n",
    "6. Outside the function, the `swap` function is called with the arguments `'abc'` and `'xyz'`, and the returned value is stored in the variable `result`.\n",
    "\n",
    "7. Finally, the `print()` function is used to display the value of `result`.\n",
    "\n",
    "*Therefore, when you run the code, it will output:\n",
    "\"xyc abz\"*\n",
    "\n",
    "*This means that the first two characters of `'abc'` are swapped with the first two characters of `'xyz'`, resulting in `'xyc'`, and the first two characters of `'xyz'` are swapped with the first two characters of `'abc'`, resulting in `'abz'`. These two swapped strings are then concatenated with a space in between and printed as the result.*"
   ]
  },
  {
   "cell_type": "markdown",
   "metadata": {},
   "source": [
    "### QUESTION 2\n",
    "\n",
    "#### Question 2(a)\n",
    "\n",
    "Write a program to find the numbers between 1500 and 2700 (both included) which are divisible by 7 and multiple of 5. Those numbers need to be stored in an array. Display all the numbers in the array."
   ]
  },
  {
   "cell_type": "code",
   "execution_count": 5,
   "metadata": {},
   "outputs": [
    {
     "name": "stdout",
     "output_type": "stream",
     "text": [
      "array('i', [1505, 1540, 1575, 1610, 1645, 1680, 1715, 1750, 1785, 1820, 1855, 1890, 1925, 1960, 1995, 2030, 2065, 2100, 2135, 2170, 2205, 2240, 2275, 2310, 2345, 2380, 2415, 2450, 2485, 2520, 2555, 2590, 2625, 2660, 2695])\n"
     ]
    }
   ],
   "source": [
    "# WRITE YOUR CODE HERE\n",
    "\n",
    "numbers_array = []\n",
    "\n",
    "for num in range(1500, 2701):\n",
    "    if num % 7 == 0 and num % 5 == 0:\n",
    "        numbers_array.append(num)\n",
    "\n",
    "from array import *\n",
    "\n",
    "array1= (array('i',numbers_array))\n",
    "print(array1)"
   ]
  },
  {
   "cell_type": "markdown",
   "metadata": {},
   "source": [
    "Breakdown of the code:\n",
    "\n",
    "1. An empty list called `numbers_array` is made.\n",
    "\n",
    "2. A `for` loop goes over each number (`num`) from 1500 to 2700 (except for 2701), but not 2701.\n",
    "\n",
    "3. An `if` statement inside the loop tries to see if the current number is divisible by 7 (`num% 7 == 0`) and by 5 (`num% 5 == 0`).\n",
    "\n",
    "4. If the number meets both conditions, the `append()` method is used to add it to the `numbers_array`.\n",
    "\n",
    "5. When the loop is done, the `array` module is loaded in.\n",
    "\n",
    "6. The `array` function from the `array` package is used to make a new array called `array1`. The `'i'` argument says that the array will hold integers, and `numbers_array` is passed as the data to be saved in the array.\n",
    "\n",
    "7. Finally, the contents of `array1` are shown by using the `print()` function.\n",
    "\n",
    "Therefore, when you run the code, it will output an array containing all the numbers between 1500 and 2700 (inclusive) that are divisible by both 7 and 5. The specific output will depend on the numbers that satisfy the given conditions."
   ]
  },
  {
   "cell_type": "markdown",
   "metadata": {},
   "source": [
    "#### Question 2(b) \n",
    "\n",
    "Given an input list [34, 54, 67, 89, 11, 43, 94], use ```pop```, ```insert``` and ```append``` methods to\n",
    "- remove the element at index 4 \n",
    "- add it to the 2nd position and at the end of the list\n",
    "\n",
    "\n",
    "Expected output:\n",
    "\n",
    "    Original list  [34, 54, 67, 89, 11, 43, 94]\n",
    "    List after removing element at index 4  [34, 54, 67, 89, 43, 94]\n",
    "    List after Adding element at index 2  [34, 54, 11, 67, 89, 43, 94]\n",
    "    List after Adding element at last  [34, 54, 11, 67, 89, 43, 94, 11]"
   ]
  },
  {
   "cell_type": "code",
   "execution_count": 6,
   "metadata": {},
   "outputs": [
    {
     "name": "stdout",
     "output_type": "stream",
     "text": [
      "Original list: [34, 54, 67, 89, 11, 43, 94]\n",
      "List after removing element at index 4: [34, 54, 67, 89, 43, 94]\n",
      "List after adding element at index 2: [34, 54, 11, 67, 89, 43, 94]\n",
      "List after adding element at last: [34, 54, 11, 67, 89, 43, 94, 11]\n"
     ]
    }
   ],
   "source": [
    "# WRITE YOUR CODE HERE\n",
    "\n",
    "my_list = [34, 54, 67, 89, 11, 43, 94]\n",
    "print(\"Original list:\", my_list)\n",
    "\n",
    "# Remove \n",
    "removed_element = my_list.pop(4)\n",
    "print(\"List after removing element at index 4:\", my_list)\n",
    "\n",
    "# Add removed \n",
    "my_list.insert(2, removed_element)\n",
    "print(\"List after adding element at index 2:\", my_list)\n",
    "\n",
    "# Add removed \n",
    "my_list.append(removed_element)\n",
    "print(\"List after adding element at last:\", my_list)\n"
   ]
  },
  {
   "cell_type": "markdown",
   "metadata": {},
   "source": [
    "*Breakdown of the code:*\n",
    "\n",
    "1. The list `my_list` is initialized with several numbers: 34, 54, 67, 89, 11, 43, and 94.\n",
    "\n",
    "2. The `print()` function is used to display the original list, labeled as \"Original list\".\n",
    "\n",
    "3. The `pop()` method is called on `my_list` with the argument 4. This removes and returns the element at index 4 from the list. The removed element is assigned to the variable `removed_element`.\n",
    "\n",
    "4. The `print()` function is used to display `my_list` after removing the element at index 4. It is labeled as \"List after removing element at index 4\".\n",
    "\n",
    "5. The `insert()` method is called on `my_list` with the arguments 2 and `removed_element`. This inserts the `removed_element` at index 2, shifting other elements to the right.\n",
    "\n",
    "6. The `print()` function is used to display `my_list` after adding the `removed_element` at index 2. It is labeled as \"List after adding element at index 2\".\n",
    "\n",
    "7. The `append()` method is called on `my_list` with the argument `removed_element`. This adds the `removed_element` to the end of the list.\n",
    "\n",
    "8. The `print()` function is used to display `my_list` after adding the `removed_element` at the last position. It is labeled as \"List after adding element at last\".\n",
    "\n",
    "*Therefore, when you run the code, it will output the following:*\n",
    "\n",
    "*Original list: [34, 54, 67, 89, 11, 43, 94]\n",
    "<br>\n",
    "List after removing element at index 4: [34, 54, 67, 89, 43, 94]\n",
    "<br>\n",
    "List after adding element at index 2: [34, 54, 11, 67, 89, 43, 94]\n",
    "<br>\n",
    "List after adding element at last: [34, 54, 11, 67, 89, 43, 94, 11]*\n",
    "\n",
    "*This means that the code removes the element at index 4, adds it back at index 2, and then appends it to the end of the list.*"
   ]
  },
  {
   "cell_type": "markdown",
   "metadata": {},
   "source": [
    "#### Question 2(c)\n",
    "\n",
    "Convert the following code to list comprehension.\n",
    "\n",
    "    numbers = [1, 2, 3, 4, 5]\n",
    "\tsquares = []\n",
    "\tfor n in numbers:\n",
    "    \t\tsquares.append(n**2)\n"
   ]
  },
  {
   "cell_type": "code",
   "execution_count": 1,
   "metadata": {},
   "outputs": [
    {
     "name": "stdout",
     "output_type": "stream",
     "text": [
      "[1, 4, 9, 16, 25]\n"
     ]
    }
   ],
   "source": [
    "# WRITE YOUR CODE HERE\n",
    "\n",
    "numbers = [1, 2, 3, 4, 5]\n",
    "squares = [n**2 for n in numbers]\n",
    "print(squares)\n"
   ]
  },
  {
   "cell_type": "markdown",
   "metadata": {},
   "source": [
    "*Breakdown of the code:*\n",
    "\n",
    "1. The `numbers` list is defined, containing the numbers 1, 2, 3, 4, and 5.\n",
    "\n",
    "2. A list comprehension is used to create the `squares` list. It iterates over each element `n` in the `numbers` list.\n",
    "\n",
    "3. For each iteration, the current element `n` is squared using the exponentiation operator `**`.\n",
    "\n",
    "4. The squared value is added to the `squares` list.\n",
    "\n",
    "5. After the list comprehension completes, the `print()` function is used to display the `squares` list.\n",
    "\n",
    "*Therefore, when you run the code, it will output:\n",
    "[1, 4, 9, 16, 25]*\n",
    "\n",
    "*This means that the code calculates the square of each number in the `numbers` list and stores the results in the `squares` list. The `squares` list will contain the squared values [1, 4, 9, 16, 25] corresponding to the elements [1, 2, 3, 4, 5] in the `numbers` list.*"
   ]
  },
  {
   "cell_type": "markdown",
   "metadata": {},
   "source": [
    "#### Question 2(d)\n",
    "\n",
    "    different_num = []\n",
    "\tlist_a = [1, 2, 3]\n",
    "\tlist_b = [2, 7]\n",
    "\tfor x in list_a:\n",
    "    \t\tfor y in list_b:\n",
    "        \tif x != y:\n",
    "            \tcouple = (x,y)\n",
    "            \tdifferent_num.append(couple)\n"
   ]
  },
  {
   "cell_type": "code",
   "execution_count": 8,
   "metadata": {},
   "outputs": [
    {
     "name": "stdout",
     "output_type": "stream",
     "text": [
      "[(1, 2), (1, 7), (2, 7), (3, 2), (3, 7)]\n"
     ]
    }
   ],
   "source": [
    "# WRITE YOUR CODE HERE\n",
    "\n",
    "list_a = [1, 2, 3]\n",
    "list_b = [2, 7]\n",
    "different_num = [(x, y) for x in list_a for y in list_b if x != y]\n",
    "print(different_num)\n"
   ]
  },
  {
   "cell_type": "markdown",
   "metadata": {},
   "source": [
    "*Breakdown of the code:*\n",
    "\n",
    "1. The `list_a` is defined, containing the numbers 1, 2, and 3.\n",
    "\n",
    "2. The `list_b` is defined, containing the numbers 2 and 7.\n",
    "\n",
    "3. A list comprehension is used to create the `different_num` list. It iterates over each element `x` in the `list_a` and each element `y` in the `list_b`.\n",
    "\n",
    "4. For each combination of `x` and `y`, the code checks if `x` is not equal to `y` using the inequality operator `!=`.\n",
    "\n",
    "5. If the condition is true, a tuple `(x, y)` is created and added to the `different_num` list.\n",
    "\n",
    "6. After the list comprehension completes, the `print()` function is used to display the `different_num` list.\n",
    "\n",
    "*Therefore, when you run the code, it will output:\n",
    "[(1, 2), (1, 7), (2, 7), (3, 2), (3, 7)]*\n",
    "\n",
    "*This means that the code creates pairs of elements where the first element is from `list_a` and the second element is from `list_b`, but only if the elements are not equal. In this case, the resulting list `different_num` contains tuples with the pairs (1, 2), (1, 7), (2, 7), (3, 2), and (3, 7).*"
   ]
  },
  {
   "cell_type": "markdown",
   "metadata": {},
   "source": [
    "### QUESTION 3 \n",
    "\n",
    "Given a data file that consists of an example daily sale information recorded manually for each of the transaction for a certain period. The information in the file consists of date, item name, amount sold, and price per unit.\n",
    "\n",
    "<br>\n",
    "<img src='Fig1.png' width='300px'>\n",
    "<p style=\"text-align: center;\">The sample of the data</p>\n"
   ]
  },
  {
   "cell_type": "markdown",
   "metadata": {},
   "source": [
    "#### Question 3(a)\n",
    "Reads the data file in Python."
   ]
  },
  {
   "cell_type": "code",
   "execution_count": 9,
   "metadata": {},
   "outputs": [
    {
     "name": "stdout",
     "output_type": "stream",
     "text": [
      "2020-09-23 Item_A 5 1.90\n",
      "2020-09-23 Item_B 6 1.20\n",
      "2020-09-23 Item_A 2 1.90\n",
      "2020-09-23 Item_B 3 1.20\n",
      "2020-09-24 Item_A 13 1.90\n",
      "2020-09-24 Item_B 2 1.20\n",
      "2020-09-24 Item_C 8 1.30\n",
      "2020-09-25 Item_D 7 2.70\n",
      "2020-09-25 Item_A 15 1.90\n",
      "2020-09-25 Item_D 7 2.70\n",
      "2020-09-25 Item_B 6 1.20\n",
      "2020-09-26 Item_B 1 1.20\n",
      "2020-09-26 Item_C 8 1.30\n",
      "2020-09-26 Item_B 11 1.20\n",
      "2020-09-26 Item_A 5 1.90\n",
      "2020-09-26 Item_B 2 1.20\n",
      "2020-09-26 Item_B 12 1.20\n",
      "2020-09-26 Item_A 4 1.90\n",
      "2020-09-26 Item_B 7 1.20\n",
      "2020-09-27 Item_E 2 2.20\n",
      "2020-09-27 Item_A 2 1.90\n",
      "2020-09-27 Item_B 3 1.20\n",
      "2020-09-27 Item_C 12 1.30\n",
      "2020-09-27 Item_D 15 2.70\n",
      "2020-09-28 Item_E 2 2.20\n",
      "2020-09-28 Item_F 2 3.20\n",
      "2020-09-28 Item_A 7 1.90\n",
      "2020-09-28 Item_F 2 3.20\n",
      "2020-09-28 Item_A 5 1.90\n",
      "2020-09-28 Item_F 2 3.20\n",
      "2020-09-28 Item_A 5 1.90\n",
      "2020-09-28 Item_B 6 1.20\n",
      "2020-09-28 Item_C 11 1.30\n",
      "2020-09-28 Item_D 11 2.70\n",
      "2020-09-29 Item_A 5 1.90\n",
      "2020-09-29 Item_B 4 1.20\n",
      "2020-09-29 Item_A 5 1.90\n",
      "2020-09-29 Item_B 5 1.20\n",
      "2020-09-29 Item_A 5 1.90\n",
      "2020-09-29 Item_B 6 1.20\n",
      "2020-09-30 Item_A 6 1.90\n",
      "2020-09-30 Item_B 6 1.20\n",
      "2020-09-30 Item_C 7 1.30\n",
      "2020-09-30 Item_D 2 2.70\n",
      "2020-09-30 Item_C 8 1.30\n",
      "2020-09-30 Item_D 8 2.70\n",
      "2020-09-30 Item_C 9 1.30\n",
      "2020-09-30 Item_D 7 2.70\n",
      "2020-09-30 Item_E 2 2.20\n",
      "2020-09-30 Item_F 2 3.20\n"
     ]
    }
   ],
   "source": [
    "# WRITE YOUR CODE HERE\n",
    "\n",
    "file = \"data_assignment_1.txt\"\n",
    "\n",
    "try:\n",
    "    with open(file, \"r\") as file:\n",
    "        data = file.read()\n",
    "        print(data)\n",
    "except FileNotFoundError:\n",
    "    print(f\"File '{file}' not found.\")\n",
    "\n"
   ]
  },
  {
   "cell_type": "markdown",
   "metadata": {},
   "source": [
    "#### Question 3(b)\n",
    "Creates a function in Python called: **calculate_daily_sale** that:\n",
    "   - Able to calculate and return the sale of each item for every day.\n",
    "   - You need to determine the data structure for the returned information, where the returned result should be able to be accessed to show the sale of exact item on a specified day. E.g.: \n",
    "      - ```result[“2020-09-25”]``` *will returns the sale for each item on that day.*\n",
    "      - ```result[“2020-09-25”][“Item_B”]``` *will returns the sale of Item B on that day.*"
   ]
  },
  {
   "cell_type": "code",
   "execution_count": 10,
   "metadata": {},
   "outputs": [
    {
     "name": "stdout",
     "output_type": "stream",
     "text": [
      "{'Item_D': 37.8, 'Item_A': 28.5, 'Item_B': 7.2}\n",
      "7.2\n"
     ]
    }
   ],
   "source": [
    "# WRITE YOUR CODE HERE\n",
    "def calculate_daily_sale(file):\n",
    "    result = {}\n",
    "\n",
    "    try:\n",
    "        with open(file, \"r\") as f:\n",
    "            for line in f:\n",
    "                line = line.strip().split()\n",
    "                date = line[0]\n",
    "                item = line[1]\n",
    "                quantity = int(line[2])\n",
    "                price = float(line[3])\n",
    "\n",
    "                if date not in result:\n",
    "                    result[date] = {}\n",
    "\n",
    "                if item not in result[date]:\n",
    "                    result[date][item] = 0\n",
    "\n",
    "                result[date][item] += round(quantity * price, 2)\n",
    "\n",
    "    except FileNotFoundError:\n",
    "        print(f\"File '{file}' not found.\")\n",
    "\n",
    "    return result\n",
    "\n",
    "file = \"data_assignment_1.txt\"\n",
    "sale_data = calculate_daily_sale(file)\n",
    "print(sale_data[\"2020-09-25\"])  # Sale for each item on 2020-09-25\n",
    "print(sale_data[\"2020-09-25\"][\"Item_B\"])  # Sale of Item B on 2020-09-25  "
   ]
  },
  {
   "cell_type": "markdown",
   "metadata": {},
   "source": [
    "*Breakdown of the code:*\n",
    "\n",
    "1. The function `calculate_daily_sale` is defined with a single argument `file` representing the filename.\n",
    "\n",
    "2. Inside the function, an empty dictionary called `result` is created to store the calculated sales data.\n",
    "\n",
    "3. The code uses a `try-except` block to handle the case where the specified file is not found.\n",
    "\n",
    "4. Within the `try` block, the file is opened in read mode using `open(file, \"r\")` and processed line by line.\n",
    "\n",
    "5. For each line, leading and trailing whitespace is removed using `strip()`, and the line is split into a list of values using the default separator (whitespace) with `split()`.\n",
    "\n",
    "6. The first element of the line represents the date, which is assigned to the variable `date`.\n",
    "\n",
    "7. The second element of the line represents the item, which is assigned to the variable `item`.\n",
    "\n",
    "8. The third element of the line represents the quantity, which is converted to an integer using `int()` and assigned to the variable `quantity`.\n",
    "\n",
    "9. The fourth element of the line represents the price, which is converted to a float using `float()` and assigned to the variable `price`.\n",
    "\n",
    "10. The code checks if the `date` is already present as a key in the `result` dictionary. If not, a new empty dictionary is created for that date.\n",
    "\n",
    "11. The code checks if the `item` is already present as a key within the `date` dictionary. If not, a new key is added with an initial value of 0.\n",
    "\n",
    "12. The code calculates the sale for the current line by multiplying the `quantity` and `price`, and rounds it to 2 decimal places using `round()`.\n",
    "\n",
    "13. The calculated sale is added to the existing value for that `item` within the `date` dictionary.\n",
    "\n",
    "14. After processing all lines in the file, the `result` dictionary containing the calculated sales data is returned.\n",
    "\n",
    "15. Outside the function, a file name is assigned to the variable `file`.\n",
    "\n",
    "16. The `calculate_daily_sale` function is called with the `file` as an argument, and the returned value is assigned to the variable `sale_data`.\n"
   ]
  },
  {
   "cell_type": "markdown",
   "metadata": {},
   "source": [
    "#### Question 3(c)\n",
    "Creates a function in Python called: **get_total_sale** that:\n",
    "   - Able to combine the sale of a specific item throughout the period in the data file.\n",
    "   - The function should receive ONE argument:\n",
    "     - The result variable returned form **calculate_daily_sale**\n",
    "   - The function should return the total sale of each item throughout the period."
   ]
  },
  {
   "cell_type": "code",
   "execution_count": 11,
   "metadata": {},
   "outputs": [
    {
     "name": "stdout",
     "output_type": "stream",
     "text": [
      "{'Item_A': 159.6, 'Item_B': 96.0, 'Item_C': 81.9, 'Item_D': 153.9, 'Item_E': 13.2, 'Item_F': 25.6}\n"
     ]
    }
   ],
   "source": [
    "# WRITE YOUR CODE HERE\n",
    "\n",
    "def get_total_sale(result):\n",
    "    total_sale = {}\n",
    "\n",
    "    for date in result:\n",
    "        for item in result[date]:\n",
    "            if item not in total_sale:\n",
    "                total_sale[item] = 0\n",
    "\n",
    "            total_sale[item] += result[date][item]\n",
    "\n",
    "    for item in total_sale:\n",
    "        total_sale[item] = round(total_sale[item], 2)\n",
    "\n",
    "    return total_sale\n",
    "\n",
    "file = \"data_assignment_1.txt\"\n",
    "sale_data = calculate_daily_sale(file)\n",
    "total_sale = get_total_sale(sale_data)\n",
    "print(total_sale)\n",
    "\n"
   ]
  },
  {
   "cell_type": "markdown",
   "metadata": {},
   "source": [
    "*Breakdown of the code:*\n",
    "\n",
    "1. The function `get_total_sale` is defined with a single argument `result` representing the daily sales data.\n",
    "\n",
    "2. Inside the function, an empty dictionary called `total_sale` is created to store the total sales for each item.\n",
    "\n",
    "3. The code iterates over each `date` in the `result` dictionary.\n",
    "\n",
    "4. For each `date`, it further iterates over each `item` within that `date`.\n",
    "\n",
    "5. If the `item` is not already present as a key in the `total_sale` dictionary, a new key is added with an initial value of 0.\n",
    "\n",
    "6. The total sale for the current `item` across all dates is updated by adding the corresponding value from the `result` dictionary.\n",
    "\n",
    "7. After processing all items for all dates, the code then iterates over each `item` in the `total_sale` dictionary.\n",
    "\n",
    "8. For each `item`, the total sale value is rounded to 2 decimal places using the `round()` function.\n",
    "\n",
    "9. The final `total_sale` dictionary with the calculated total sales for each item is returned.\n",
    "\n",
    "10. Outside the function, a file name is assigned to the variable `file`.\n",
    "\n",
    "11. The `calculate_daily_sale` function is called with the `file` as an argument, and the returned value is assigned to the variable `sale_data`.\n",
    "\n",
    "12. The `get_total_sale` function is called with the `sale_data` as an argument, and the returned value is assigned to the variable `total_sale`.\n",
    "\n",
    "13. The `print()` function is used to display the `total_sale` dictionary, showing the total sales for each item across all dates.\n"
   ]
  }
 ],
 "metadata": {
  "kernelspec": {
   "display_name": "Python 3 (ipykernel)",
   "language": "python",
   "name": "python3"
  },
  "language_info": {
   "codemirror_mode": {
    "name": "ipython",
    "version": 3
   },
   "file_extension": ".py",
   "mimetype": "text/x-python",
   "name": "python",
   "nbconvert_exporter": "python",
   "pygments_lexer": "ipython3",
   "version": "3.9.13"
  }
 },
 "nbformat": 4,
 "nbformat_minor": 4
}
